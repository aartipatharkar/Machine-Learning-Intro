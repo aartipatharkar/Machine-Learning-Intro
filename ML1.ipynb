{
  "nbformat": 4,
  "nbformat_minor": 0,
  "metadata": {
    "colab": {
      "provenance": []
    },
    "kernelspec": {
      "name": "python3",
      "display_name": "Python 3"
    },
    "language_info": {
      "name": "python"
    }
  },
  "cells": [
    {
      "cell_type": "markdown",
      "source": [
        "**Machine Learning Intro**"
      ],
      "metadata": {
        "id": "sr-zeffXs65u"
      }
    },
    {
      "cell_type": "markdown",
      "source": [
        "1)Explain the differences between AI, ML, Deep Learning (DL), and Data\n",
        "Science (DS).\n",
        "->\n",
        "**Artificial Intelligence (AI)**\n",
        "is the broadest concept, representing the goal of creating machines that can simulate human intelligence. This includes tasks like problem-solving, learning, understanding language, and perception. AI can be achieved through various methods, including rule-based systems or more advanced techniques like ML and DL.\n",
        "**Machine Learning (ML)**\n",
        "is a subset of AI that enables systems to learn from data without explicit programming. ML algorithms identify patterns in data and use these patterns to make predictions or decisions. Examples include classification, regression, and clustering algorithms.\n",
        "**Deep Learning (DL)**\n",
        "is a specialized subset of ML that utilizes artificial neural networks with multiple layers (deep neural networks) to learn complex patterns from large datasets. DL excels in tasks like image recognition, natural language processing, and speech recognition due to its ability to automatically extract relevant features from raw data.\n",
        "**Data Science (DS)**\n",
        "is an interdisciplinary field that involves extracting knowledge and insights from data using various methods, including statistics, mathematics, programming, and visualization. Data scientists often employ ML and DL techniques as tools to analyze data, build predictive models, and inform business decisions, but their scope also encompasses data collection, cleaning, and interpretation."
      ],
      "metadata": {
        "id": "ZRv369Ges9if"
      }
    },
    {
      "cell_type": "markdown",
      "source": [
        "2)What are the types of machine learning? Describe each with one\n",
        "real-world example.\n",
        "->\n",
        "1. Supervised Learning\n",
        "Description:\n",
        "Algorithms learn from a dataset where each input is paired with a correct output label. The model's goal is to learn a mapping from inputs to outputs so it can predict the output for new, unseen data.\n",
        "Real-World Example:\n",
        "Email spam filtering is a classic example. The model is trained on a dataset of emails, each labeled as either \"spam\" or \"not spam,\" to learn how to classify new emails accurately.\n",
        "2. Unsupervised Learning\n",
        "Description:\n",
        "This type of learning involves finding patterns and structures within unlabeled data, where there are no predefined outputs. Algorithms can perform tasks like clustering similar data points or reducing the number of variables.\n",
        "Real-World Example:\n",
        "Customer segmentation in marketing is an unsupervised learning application. The algorithm analyzes customer data to identify distinct groups or segments of customers with similar characteristics, without any prior knowledge of those segments.\n",
        "3. Reinforcement Learning\n",
        "Description:\n",
        "An agent learns to make sequential decisions by interacting with an environment through trial and error. The agent receives rewards for desirable actions and penalties for undesirable ones, aiming to maximize its cumulative reward over time.\n",
        "Real-World Example:\n",
        "Robots learning to navigate complex environments is a common reinforcement learning application. The robot (agent) learns to move and interact with objects in the environment to achieve its goals by receiving rewards for successful actions."
      ],
      "metadata": {
        "id": "MF4X85yTtdhj"
      }
    },
    {
      "cell_type": "markdown",
      "source": [
        "3)Define overfitting, underfitting, and the bias-variance tradeoff in machine\n",
        "learning.\n",
        "->\n",
        "**Underfitting**\n",
        "Definition: A model is too simplistic to learn the true relationship in the data, making strong, incorrect assumptions about the data's underlying structure.\n",
        "Symptoms: High bias, high training error, and high validation/test error.\n",
        "Cause: Model complexity is too low, failing to capture complex patterns.\n",
        "**Overfitting**\n",
        "Definition: A model learns the training data too well, including its noise and random fluctuations, leading to a model that performs well on training data but poorly on new data.\n",
        "Symptoms: Low bias, low training error, and high validation/test error.\n",
        "Cause: Model complexity is too high, making the model overly sensitive to the specific training data.\n",
        "**Bias-Variance Tradeoff**\n",
        "Bias:\n",
        "The error introduced by approximating a real-world problem with a simplified model. A high-bias model has overly simplistic assumptions.\n",
        "Variance:\n",
        "The error introduced by the model's sensitivity to small variations in the training data. A high-variance model is overly complex and fits the training data noise.\n",
        "The Tradeoff:\n",
        "As model complexity increases, bias generally decreases but variance increases. Conversely, as complexity decreases, bias increases while variance decreases. The goal is to find a sweet spot—a balanced model that minimizes the sum of bias-squared and variance to generalize well to new data, rather than just memorizing the training data."
      ],
      "metadata": {
        "id": "zJ_prXK-tsYp"
      }
    },
    {
      "cell_type": "markdown",
      "source": [
        "4)What are outliers in a dataset, and list three common techniques for\n",
        "handling them.\n",
        "->\n",
        "Outliers in a dataset are data points that significantly deviate from the general pattern or distribution of the other observations. They can be unusually high or low values compared to the majority of the data. Outliers can arise from various sources, including measurement errors, data entry mistakes, natural variations, or rare events.\n",
        "\n",
        "\n",
        "Three common techniques for handling outliers are:\n",
        "Removal/Trimming:\n",
        "This involves identifying and removing the outlier data points from the dataset. This method is suitable when outliers are clearly identifiable as errors or anomalies that do not represent the true underlying data. However, it should be used cautiously as it can lead to a loss of information, especially if the outliers contain valuable insights.\n",
        "Winsorization/Capping:\n",
        "This technique involves replacing the outlier values with a less extreme value, typically the nearest non-outlier value within a defined range (e.g., a certain percentile). Winsorization reduces the influence of extreme values without completely discarding them, thus preserving more data than simple removal.\n",
        "Transformation:\n",
        "Data transformation methods can be applied to reduce the skewness or variability in the data, thereby mitigating the impact of outliers. Common transformations include logarithmic, square root, or reciprocal transformations. These transformations can compress the range of values, making extreme values less influential on statistical analyses or model training.\n"
      ],
      "metadata": {
        "id": "sreOpSP2uHSF"
      }
    },
    {
      "cell_type": "markdown",
      "source": [
        "5)Explain the process of handling missing values and mention one\n",
        "imputation technique for numerical and one for categorical data.\n",
        "->\n",
        "Process of Handling Missing Values:\n",
        "\n",
        "Identify Missing Values – Detect missing entries (e.g., NaN, blanks, or placeholders like ?).\n",
        "\n",
        "Understand the Pattern – Check if data is Missing Completely at Random (MCAR), Missing at Random (MAR), or Missing Not at Random (MNAR).\n",
        "\n",
        "Decide on Strategy – Options include:\n",
        "\n",
        "Removing data (dropping rows or columns with many missing values).\n",
        "\n",
        "Imputing data (filling in missing values with reasonable estimates).\n",
        "\n",
        "Using algorithms that can handle missing values directly.\n",
        "\n",
        "Apply Imputation/Removal – Based on data type and context.\n",
        "\n",
        "Validate Impact – Ensure imputation does not distort relationships in the dataset.\n",
        "\n",
        "Imputation Techniques:\n",
        "\n",
        "Numerical Data → Mean Imputation\n",
        "Replace missing values with the mean of the column.\n",
        "Example: Filling missing ages with the average age.\n",
        "\n",
        "Categorical Data → Mode Imputation\n",
        "Replace missing values with the most frequent category (mode).\n",
        "Example: Filling missing gender values with the most common gender in the dataset."
      ],
      "metadata": {
        "id": "b-ZmrJ0euZ56"
      }
    },
    {
      "cell_type": "code",
      "source": [
        "'''Write a Python program that:\n",
        "● Creates a synthetic imbalanced dataset with make_classification() from\n",
        "sklearn.datasets.\n",
        "● Prints the class distribution'''\n",
        "\n",
        "from sklearn.datasets import make_classification\n",
        "from collections import Counter\n",
        "import pandas as pd\n",
        "\n",
        "# Create an imbalanced dataset\n",
        "X, y = make_classification(n_samples=1000,   # total samples\n",
        "                           n_features=10,    # number of features\n",
        "                           n_informative=5,  # number of informative features\n",
        "                           n_redundant=2,    # redundant features\n",
        "                           n_clusters_per_class=1,\n",
        "                           weights=[0.9, 0.1], # imbalance ratio (90% vs 10%)\n",
        "                           random_state=42)\n",
        "\n",
        "# Print class distribution\n",
        "class_counts = Counter(y)\n",
        "print(\"Class Distribution:\", class_counts)\n",
        "\n",
        "# Optional: show as DataFrame for readability\n",
        "df_counts = pd.DataFrame.from_dict(class_counts, orient='index', columns=['Count'])\n",
        "print(\"\\nClass Distribution Table:\\n\", df_counts)\n"
      ],
      "metadata": {
        "colab": {
          "base_uri": "https://localhost:8080/"
        },
        "id": "5lTnc-7Nu6MI",
        "outputId": "243585c8-2a3d-42ec-9280-05736763079e"
      },
      "execution_count": 1,
      "outputs": [
        {
          "output_type": "stream",
          "name": "stdout",
          "text": [
            "Class Distribution: Counter({np.int64(0): 896, np.int64(1): 104})\n",
            "\n",
            "Class Distribution Table:\n",
            "    Count\n",
            "0    896\n",
            "1    104\n"
          ]
        }
      ]
    },
    {
      "cell_type": "code",
      "source": [
        "'''Implement one-hot encoding using pandas for the following list of colors:\n",
        "['Red', 'Green', 'Blue', 'Green', 'Red']. Print the resulting dataframe.'''\n",
        "\n",
        "import pandas as pd\n",
        "\n",
        "# Given list of colors\n",
        "colors = ['Red', 'Green', 'Blue', 'Green', 'Red']\n",
        "\n",
        "# Create a DataFrame\n",
        "df = pd.DataFrame(colors, columns=['Color'])\n",
        "\n",
        "# Apply one-hot encoding\n",
        "one_hot = pd.get_dummies(df['Color'])\n",
        "\n",
        "# Print the resulting DataFrame\n",
        "print(\"Original DataFrame:\\n\", df)\n",
        "print(\"\\nOne-Hot Encoded DataFrame:\\n\", one_hot)\n"
      ],
      "metadata": {
        "colab": {
          "base_uri": "https://localhost:8080/"
        },
        "id": "dxJn2_OFvD3-",
        "outputId": "93a07a74-7b03-47ca-8045-3304694b0d12"
      },
      "execution_count": 2,
      "outputs": [
        {
          "output_type": "stream",
          "name": "stdout",
          "text": [
            "Original DataFrame:\n",
            "    Color\n",
            "0    Red\n",
            "1  Green\n",
            "2   Blue\n",
            "3  Green\n",
            "4    Red\n",
            "\n",
            "One-Hot Encoded DataFrame:\n",
            "     Blue  Green    Red\n",
            "0  False  False   True\n",
            "1  False   True  False\n",
            "2   True  False  False\n",
            "3  False   True  False\n",
            "4  False  False   True\n"
          ]
        }
      ]
    },
    {
      "cell_type": "code",
      "source": [
        "'''Write a Python script to:\n",
        "● Generate 1000 samples from a normal distribution.\n",
        "● Introduce 50 random missing values.\n",
        "● Fill missing values with the column mean.\n",
        "● Plot a histogram before and after imputation.'''\n",
        "\n",
        "import numpy as np\n",
        "import pandas as pd\n",
        "import matplotlib.pyplot as plt\n",
        "\n",
        "# Step 1: Generate 1000 samples from a normal distribution\n",
        "np.random.seed(42)  # for reproducibility\n",
        "data = np.random.normal(loc=50, scale=10, size=1000)  # mean=50, std=10\n",
        "\n",
        "# Convert to DataFrame\n",
        "df = pd.DataFrame(data, columns=['Values'])\n",
        "\n",
        "# Step 2: Introduce 50 random missing values\n",
        "missing_indices = np.random.choice(df.index, size=50, replace=False)\n",
        "df.loc[missing_indices, 'Values'] = np.nan\n",
        "\n",
        "# Step 3: Fill missing values with column mean\n",
        "mean_value = df['Values'].mean()\n",
        "df_filled = df['Values'].fillna(mean_value)\n",
        "\n",
        "# Step 4: Plot histogram before and after imputation\n",
        "plt.figure(figsize=(12, 5))\n",
        "\n",
        "# Before imputation\n",
        "plt.subplot(1, 2, 1)\n",
        "plt.hist(df['Values'].dropna(), bins=30, edgecolor='black')\n",
        "plt.title(\"Histogram Before Imputation\")\n",
        "plt.xlabel(\"Value\")\n",
        "plt.ylabel(\"Frequency\")\n",
        "\n",
        "# After imputation\n",
        "plt.subplot(1, 2, 2)\n",
        "plt.hist(df_filled, bins=30, edgecolor='black', color='orange')\n",
        "plt.title(\"Histogram After Imputation\")\n",
        "plt.xlabel(\"Value\")\n",
        "plt.ylabel(\"Frequency\")\n",
        "\n",
        "plt.tight_layout()\n",
        "plt.show()\n"
      ],
      "metadata": {
        "colab": {
          "base_uri": "https://localhost:8080/",
          "height": 507
        },
        "id": "KoI16thAvQxu",
        "outputId": "089a7f8b-001a-418c-b524-e7c8c5cdb537"
      },
      "execution_count": 3,
      "outputs": [
        {
          "output_type": "display_data",
          "data": {
            "text/plain": [
              "<Figure size 1200x500 with 2 Axes>"
            ],
            "image/png": "[encoded data removed]"
          },
          "metadata": {}
        }
      ]
    },
    {
      "cell_type": "code",
      "source": [
        "'''Implement Min-Max scaling on the following list of numbers [2, 5, 10, 15,\n",
        "20] using sklearn.preprocessing.MinMaxScaler. Print the scaled array.'''\n",
        "\n",
        "from sklearn.preprocessing import MinMaxScaler\n",
        "import numpy as np\n",
        "\n",
        "# Given list of numbers\n",
        "data = np.array([2, 5, 10, 15, 20]).reshape(-1, 1)\n",
        "\n",
        "# Initialize Min-Max Scaler\n",
        "scaler = MinMaxScaler()\n",
        "\n",
        "# Fit and transform the data\n",
        "scaled_data = scaler.fit_transform(data)\n",
        "\n",
        "# Print results\n",
        "print(\"Original Data:\\n\", data.flatten())\n",
        "print(\"\\nScaled Data:\\n\", scaled_data.flatten())\n"
      ],
      "metadata": {
        "colab": {
          "base_uri": "https://localhost:8080/"
        },
        "id": "nKejmE9fvcWu",
        "outputId": "31011801-fb48-42a2-a9d6-c20e04562e74"
      },
      "execution_count": 4,
      "outputs": [
        {
          "output_type": "stream",
          "name": "stdout",
          "text": [
            "Original Data:\n",
            " [ 2  5 10 15 20]\n",
            "\n",
            "Scaled Data:\n",
            " [0.         0.16666667 0.44444444 0.72222222 1.        ]\n"
          ]
        }
      ]
    },
    {
      "cell_type": "code",
      "source": [
        "'''You are working as a data scientist for a retail company. You receive a customer\n",
        "transaction dataset that contains:\n",
        "● Missing ages,\n",
        "● Outliers in transaction amount,\n",
        "● A highly imbalanced target (fraud vs. non-fraud),\n",
        "● Categorical variables like payment method.'''\n",
        "\n",
        "import numpy as np\n",
        "import pandas as pd\n",
        "from sklearn.model_selection import train_test_split\n",
        "from sklearn.impute import SimpleImputer\n",
        "from sklearn.preprocessing import OneHotEncoder, RobustScaler\n",
        "from sklearn.compose import ColumnTransformer\n",
        "from sklearn.pipeline import Pipeline\n",
        "from sklearn.ensemble import RandomForestClassifier\n",
        "from sklearn.metrics import classification_report, confusion_matrix\n",
        "from imblearn.over_sampling import SMOTE\n",
        "from imblearn.pipeline import Pipeline as ImbPipeline\n",
        "\n",
        "# ------------------------------\n",
        "# Example Synthetic Dataset\n",
        "# ------------------------------\n",
        "np.random.seed(42)\n",
        "n_samples = 1000\n",
        "\n",
        "data = pd.DataFrame({\n",
        "    \"Age\": np.random.randint(18, 70, size=n_samples).astype(float),\n",
        "    \"TransactionAmount\": np.random.normal(200, 100, size=n_samples),\n",
        "    \"PaymentMethod\": np.random.choice([\"Credit\", \"Debit\", \"PayPal\"], size=n_samples),\n",
        "    \"Fraud\": np.random.choice([0, 1], size=n_samples, p=[0.95, 0.05])  # Imbalanced\n",
        "})\n",
        "\n",
        "# Introduce missing ages\n",
        "missing_idx = np.random.choice(data.index, size=50, replace=False)\n",
        "data.loc[missing_idx, \"Age\"] = np.nan\n",
        "\n",
        "# Introduce some outliers in TransactionAmount\n",
        "outlier_idx = np.random.choice(data.index, size=10, replace=False)\n",
        "data.loc[outlier_idx, \"TransactionAmount\"] = data[\"TransactionAmount\"] * 10\n",
        "\n",
        "# ------------------------------\n",
        "# Features and Target\n",
        "# ------------------------------\n",
        "X = data.drop(\"Fraud\", axis=1)\n",
        "y = data[\"Fraud\"]\n",
        "\n",
        "# Define column types\n",
        "num_features = [\"Age\", \"TransactionAmount\"]\n",
        "cat_features = [\"PaymentMethod\"]\n",
        "\n",
        "# ------------------------------\n",
        "# Preprocessing\n",
        "# ------------------------------\n",
        "numeric_transformer = Pipeline(steps=[\n",
        "    (\"imputer\", SimpleImputer(strategy=\"median\")),   # Handle missing ages\n",
        "    (\"scaler\", RobustScaler())                       # Handle outliers\n",
        "])\n",
        "\n",
        "categorical_transformer = OneHotEncoder(handle_unknown=\"ignore\")\n",
        "\n",
        "preprocessor = ColumnTransformer(\n",
        "    transformers=[\n",
        "        (\"num\", numeric_transformer, num_features),\n",
        "        (\"cat\", categorical_transformer, cat_features)\n",
        "    ]\n",
        ")\n",
        "\n",
        "# ------------------------------\n",
        "# Full Pipeline with SMOTE\n",
        "# ------------------------------\n",
        "model = RandomForestClassifier(class_weight=\"balanced\", random_state=42)\n",
        "\n",
        "pipeline = ImbPipeline(steps=[\n",
        "    (\"preprocessor\", preprocessor),\n",
        "    (\"smote\", SMOTE(random_state=42)),\n",
        "    (\"classifier\", model)\n",
        "])\n",
        "\n",
        "# ------------------------------\n",
        "# Train/Test Split\n",
        "# ------------------------------\n",
        "X_train, X_test, y_train, y_test = train_test_split(\n",
        "    X, y, test_size=0.3, stratify=y, random_state=42\n",
        ")\n",
        "\n",
        "# ------------------------------\n",
        "# Fit & Evaluate\n",
        "# ------------------------------\n",
        "pipeline.fit(X_train, y_train)\n",
        "y_pred = pipeline.predict(X_test)\n",
        "\n",
        "print(\"Confusion Matrix:\\n\", confusion_matrix(y_test, y_pred))\n",
        "print(\"\\nClassification Report:\\n\", classification_report(y_test, y_pred))\n"
      ],
      "metadata": {
        "colab": {
          "base_uri": "https://localhost:8080/"
        },
        "id": "_DAGef76vl46",
        "outputId": "8539a4bb-b12a-4a21-9100-a5acde349d7f"
      },
      "execution_count": 6,
      "outputs": [
        {
          "output_type": "stream",
          "name": "stdout",
          "text": [
            "Confusion Matrix:\n",
            " [[245  42]\n",
            " [ 13   0]]\n",
            "\n",
            "Classification Report:\n",
            "               precision    recall  f1-score   support\n",
            "\n",
            "           0       0.95      0.85      0.90       287\n",
            "           1       0.00      0.00      0.00        13\n",
            "\n",
            "    accuracy                           0.82       300\n",
            "   macro avg       0.47      0.43      0.45       300\n",
            "weighted avg       0.91      0.82      0.86       300\n",
            "\n"
          ]
        }
      ]
    },
    {
      "cell_type": "code",
      "source": [],
      "metadata": {
        "id": "GNawAJHxwF7c"
      },
      "execution_count": null,
      "outputs": []
    }
  ]
}